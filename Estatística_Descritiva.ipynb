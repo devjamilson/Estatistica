{
  "nbformat": 4,
  "nbformat_minor": 0,
  "metadata": {
    "colab": {
      "provenance": []
    },
    "kernelspec": {
      "name": "python3",
      "display_name": "Python 3"
    },
    "language_info": {
      "name": "python"
    }
  },
  "cells": [
    {
      "cell_type": "markdown",
      "source": [
        "# **Estatística Descritiva com Python**"
      ],
      "metadata": {
        "id": "POQMSeGBlv45"
      }
    },
    {
      "cell_type": "markdown",
      "source": [
        "A **Estatística Descritiva** visa descrever e sumarizar um conjunto de dados:\n",
        "\n",
        "é divida em **medidas de tendência** central e de **dispersão**"
      ],
      "metadata": {
        "id": "0uIjYFnMmIXN"
      }
    },
    {
      "cell_type": "markdown",
      "source": [
        "# **Medidas de Tendência Central**"
      ],
      "metadata": {
        "id": "O_YAGm9sm0er"
      }
    },
    {
      "cell_type": "code",
      "execution_count": null,
      "metadata": {
        "colab": {
          "base_uri": "https://localhost:8080/"
        },
        "id": "38DoDk3QlRUF",
        "outputId": "65fc4c13-7e05-4902-869a-62b850d7e6f1"
      },
      "outputs": [
        {
          "output_type": "stream",
          "name": "stdout",
          "text": [
            "37.19047619047619\n",
            "10.5\n"
          ]
        }
      ],
      "source": [
        "#Média - mean()\n",
        "import pandas as pd\n",
        "import numpy as np\n",
        "\n",
        "example_series = pd.Series([1,5,10,30,80,66,70,86,50,30,15,40,50,1,7,8,7,45,50,60,70,])\n",
        "\n",
        "print(example_series.mean())\n",
        "\n",
        "\n",
        "exemple_num = [1,2,3,4,5,6,7,8,9,10,11,12,13,14,15,16,17,18,19,20]\n",
        "media_np = np.mean(exemple_num)\n",
        "print(media_np)"
      ]
    },
    {
      "cell_type": "code",
      "source": [
        "#Mediana - median()\n",
        "\n",
        "exemple_num = [1,2,3,4,5,6,7,8,9,10,11,12,13,14,15,16,17,18,19]\n",
        "mediana_np = np.median(exemple_num)\n",
        "print(mediana_np)\n"
      ],
      "metadata": {
        "colab": {
          "base_uri": "https://localhost:8080/"
        },
        "id": "5ujIb06sobUE",
        "outputId": "e199960d-3614-43af-f15f-8f661c2255bd"
      },
      "execution_count": null,
      "outputs": [
        {
          "output_type": "stream",
          "name": "stdout",
          "text": [
            "10.0\n"
          ]
        }
      ]
    },
    {
      "cell_type": "code",
      "source": [
        "#Quartil -  quantile, funciona com pd\n",
        "\n",
        "example_series = pd.Series([1,5,10,30,80,66,70,86,50,30,15,40,50,1,7,8,7,45,50,60,70])\n",
        "print(example_series.quantile(q=0.50))\n",
        "\n",
        "#mediana\n",
        "print(np.median(example_series))"
      ],
      "metadata": {
        "colab": {
          "base_uri": "https://localhost:8080/"
        },
        "id": "JBYjifuSowy2",
        "outputId": "af690b75-e68e-46cd-e300-b31393d30f6f"
      },
      "execution_count": null,
      "outputs": [
        {
          "output_type": "stream",
          "name": "stdout",
          "text": [
            "40.0\n",
            "40.0\n"
          ]
        }
      ]
    },
    {
      "cell_type": "code",
      "source": [
        "#Moda - mode(), caso haja outras modas ele retorna tbm\n",
        "\n",
        "example_series = pd.Series([1,5,10,30,80,66,70,86,50,30,15,40,50,1,7,8,7,45,50,60,70])\n",
        "print(example_series.mode())\n"
      ],
      "metadata": {
        "colab": {
          "base_uri": "https://localhost:8080/"
        },
        "id": "bzDS9_c3qpbn",
        "outputId": "89272b78-7653-40ef-baa2-1598fb66d388"
      },
      "execution_count": null,
      "outputs": [
        {
          "output_type": "stream",
          "name": "stdout",
          "text": [
            "0    50\n",
            "dtype: int64\n"
          ]
        }
      ]
    },
    {
      "cell_type": "markdown",
      "source": [
        "# **Medidas de Dispersão**"
      ],
      "metadata": {
        "id": "uo2JsY1rrIzM"
      }
    },
    {
      "cell_type": "markdown",
      "source": [
        "As medidas de dispersão são medidas que indicam o quão espalhados os dados estão, ou como eles variam"
      ],
      "metadata": {
        "id": "K4Pjmy3UrbDG"
      }
    },
    {
      "cell_type": "code",
      "source": [
        "#Amplitude\n",
        "\n",
        "example_series = pd.Series([1,5,10,30,80,66,70,86,50,30,15,40,50,1,7,8,7,45,50,60,70])\n",
        "print(example_series.max() - example_series.min())"
      ],
      "metadata": {
        "colab": {
          "base_uri": "https://localhost:8080/"
        },
        "id": "bUHUu2wmrafg",
        "outputId": "f1599dd4-b266-45c1-dd4f-5ef92de92818"
      },
      "execution_count": null,
      "outputs": [
        {
          "output_type": "stream",
          "name": "stdout",
          "text": [
            "85\n"
          ]
        }
      ]
    },
    {
      "cell_type": "code",
      "source": [
        "#Variância - var()\n",
        "# A variância é uma medida que expressa quanto os dados de um conjunto estão afastados de seu valor esperado.\n",
        "\n",
        "print(example_series.var())\n",
        "\n",
        "\n",
        "#exemplo com valores parecidos\n",
        "example_valores_parecidos = pd.Series([14,15,14,14,16,15,14,12,13,15,15,10,13,14,15,13,14,15,13,15,14])\n",
        "print(example_valores_parecidos.var())"
      ],
      "metadata": {
        "colab": {
          "base_uri": "https://localhost:8080/"
        },
        "id": "qyKqnfa2rN75",
        "outputId": "f06c08ae-e53a-41a7-fe0d-f1cbfadcb635"
      },
      "execution_count": null,
      "outputs": [
        {
          "output_type": "stream",
          "name": "stdout",
          "text": [
            "797.2619047619048\n",
            "1.7476190476190474\n"
          ]
        }
      ]
    },
    {
      "cell_type": "code",
      "source": [
        "#Desvio Padrão - no pandas std()\n",
        "print(example_series.std())\n",
        "\n",
        "#Desvio Padrão Absoluto - mad()\n",
        "print(example_series.mad())"
      ],
      "metadata": {
        "colab": {
          "base_uri": "https://localhost:8080/"
        },
        "id": "9rcFBXGNstCT",
        "outputId": "85903d56-6f18-4ca2-b5ee-9f393254fffd"
      },
      "execution_count": null,
      "outputs": [
        {
          "output_type": "stream",
          "name": "stdout",
          "text": [
            "28.235826617294293\n",
            "24.562358276643987\n"
          ]
        }
      ]
    },
    {
      "cell_type": "code",
      "source": [
        "#Covariância - cov() e Correlação - corr()\n",
        "#Em alguns momentos, queremos saber se duas variáveis possuem alguma relação entre si dentro de um conjunto de dados\n",
        "#Usada geralmente com dataset grandes\n",
        "#é necessário cuidado ao avaliar as correlações\n"
      ],
      "metadata": {
        "id": "SjINI6OBtJGY"
      },
      "execution_count": null,
      "outputs": []
    }
  ]
}